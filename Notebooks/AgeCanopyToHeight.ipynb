{
  "nbformat": 4,
  "nbformat_minor": 0,
  "metadata": {
    "colab": {
      "provenance": [],
      "authorship_tag": "ABX9TyMGi6vhAtFng97aQmL51fKH",
      "include_colab_link": true
    },
    "kernelspec": {
      "name": "python3",
      "display_name": "Python 3"
    },
    "language_info": {
      "name": "python"
    }
  },
  "cells": [
    {
      "cell_type": "markdown",
      "metadata": {
        "id": "view-in-github",
        "colab_type": "text"
      },
      "source": [
        "<a href=\"https://colab.research.google.com/github/TheBull8/MachineLearning/blob/main/AgeCanopyToHeight.ipynb\" target=\"_parent\"><img src=\"https://colab.research.google.com/assets/colab-badge.svg\" alt=\"Open In Colab\"/></a>"
      ]
    },
    {
      "cell_type": "markdown",
      "source": [
        "\n",
        "\n",
        "1.   Upload the YellowN.csv (or OrangeN.csv)\n",
        "2.   Import into Dataframe\n",
        "3.   Compute Age\n",
        "4.   Height = f(canopy, age)\n",
        "5.   Linear regression\n",
        "6.   Polynomial\n",
        "7.   Repeat for DBH\n",
        "2.   Repeat for Orange steps 1-7\n",
        "\n",
        "\n",
        "\n",
        "\n",
        "\n",
        "\n",
        "\n"
      ],
      "metadata": {
        "id": "q_6YqXVx3Bzq"
      }
    },
    {
      "cell_type": "code",
      "source": [
        "import numpy as np\n",
        "from sklearn.linear_model import LinearRegression\n",
        "import pandas as pd\n",
        "from datetime import datetime\n",
        "from datetime import datetime, timedelta\n",
        "\n",
        "#Select either YellowN or OrangeN csv file\n",
        "df = pd.read_csv('OrangeN.csv')"
      ],
      "metadata": {
        "id": "4Xng4LqN5PIW"
      },
      "execution_count": 11,
      "outputs": []
    },
    {
      "cell_type": "code",
      "source": [
        "#Age Column computing\n",
        "def convert_to_date(date_string):\n",
        "    return datetime.strptime(date_string, '%b-%y').date()\n",
        "\n",
        "df['DP2'] = df['datePlanted'].apply(convert_to_date)\n",
        "D1 = datetime.now() - timedelta(days=200)\n",
        "df['Age'] = (D1 - pd.to_datetime( df['datePlanted'].apply(convert_to_date))).dt.days"
      ],
      "metadata": {
        "id": "eGim7PMK5wR8"
      },
      "execution_count": 12,
      "outputs": []
    },
    {
      "cell_type": "code",
      "source": [
        "#Put code here to randomly choose 80% of the data to be the TRAINING SET"
      ],
      "metadata": {
        "id": "gNz9GPk465XG"
      },
      "execution_count": null,
      "outputs": []
    },
    {
      "cell_type": "code",
      "source": [
        "x = df[['canopy', 'Age']].to_numpy().reshape((-1, 2))\n",
        "\n",
        "#Choose either 'DBH' or 'height' below\n",
        "y = np.array(df['DBH'].to_numpy())"
      ],
      "metadata": {
        "id": "LixDGc0_6IYd"
      },
      "execution_count": 15,
      "outputs": []
    },
    {
      "cell_type": "code",
      "source": [
        "model = LinearRegression().fit(x, y)\n",
        "r_sq = model.score(x, y)\n",
        "print(f\"coefficient of determination: {r_sq}\")\n",
        "print(f\"intercept: {model.intercept_}\")\n",
        "print(f\"slope: {model.coef_}\")"
      ],
      "metadata": {
        "colab": {
          "base_uri": "https://localhost:8080/"
        },
        "id": "AKz8Hx656tY7",
        "outputId": "f516ba72-2546-4597-f35f-4e64d7bf9bd6"
      },
      "execution_count": 16,
      "outputs": [
        {
          "output_type": "stream",
          "name": "stdout",
          "text": [
            "coefficient of determination: 0.7655867090955473\n",
            "intercept: -0.09445002223047344\n",
            "slope: [2.67150969e-01 1.31183805e-04]\n"
          ]
        }
      ]
    }
  ]
}