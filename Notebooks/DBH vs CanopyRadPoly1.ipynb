{
 "cells": [
  {
   "cell_type": "code",
   "execution_count": 1,
   "id": "14d0a623",
   "metadata": {},
   "outputs": [],
   "source": [
    "import numpy as np\n",
    "from sklearn.linear_model import LinearRegression\n",
    "import pandas as pd\n",
    "from datetime import datetime\n",
    "from datetime import datetime, timedelta\n",
    "\n",
    "df = pd.read_csv('/Users/edwardwong/documents/RedAnt/YellowOrangeN.csv')\n",
    "\n",
    "#x = np.array(df['canopy'].to_numpy()).reshape((-1, 1))\n",
    "#y = np.array(df['DBH'].to_numpy())\n",
    "\n"
   ]
  },
  {
   "cell_type": "code",
   "execution_count": 2,
   "id": "c6b86565",
   "metadata": {},
   "outputs": [],
   "source": [
    "def convert_to_date(date_string):\n",
    "    return datetime.strptime(date_string, '%b-%y').date()\n",
    "df['DP2'] = df['datePlanted'].apply(convert_to_date)"
   ]
  },
  {
   "cell_type": "code",
   "execution_count": 3,
   "id": "27114125",
   "metadata": {},
   "outputs": [],
   "source": [
    "# Convert the 'date_string' column to date and create a new column\n",
    "\n",
    "#df['Birth_date'] = pd.to_date(df['DP2'])\n",
    "#df['Age'] = (datetime.now() - df['Birth_date']).dt.days\n",
    "#df['Age'] = (datetime.now() - pd.to_datetime(df['DP2'])).dt.days\n",
    "# this assumes that at the time of training, the data is 200 days old, see the next line below 'days=200'\n",
    "D1 = datetime.now() - timedelta(days=200)\n",
    "df['Age'] = (D1 - pd.to_datetime( df['datePlanted'].apply(convert_to_date))).dt.days"
   ]
  },
  {
   "cell_type": "code",
   "execution_count": 4,
   "id": "8b6d0858",
   "metadata": {},
   "outputs": [],
   "source": [
    "# Define a mapping dictionary\n",
    "mapping = {'Mangifera indica': 1, 'Persea americana': 2}\n",
    "\n",
    "# Create the new column by mapping the values\n",
    "df['speciesCode'] = df['species'].map(mapping)"
   ]
  },
  {
   "cell_type": "code",
   "execution_count": 9,
   "id": "15459ff0",
   "metadata": {},
   "outputs": [],
   "source": [
    "# 3 feature input: canopy, age, and species (code)\n",
    "\n",
    "x = df[['canopy', 'Age', 'speciesCode']].to_numpy().reshape((-1, 3))\n",
    "\n",
    "y = np.array(df['DBH'].to_numpy())\n"
   ]
  },
  {
   "cell_type": "code",
   "execution_count": 10,
   "id": "1c49be9d",
   "metadata": {},
   "outputs": [
    {
     "name": "stdout",
     "output_type": "stream",
     "text": [
      "coefficient of determination: 0.7273294822618945\n",
      "intercept: -0.07894658929730874\n",
      "slope: [ 3.90110959e-01  1.57382450e-04 -4.74674145e-02]\n"
     ]
    }
   ],
   "source": [
    "model = LinearRegression().fit(x, y)\n",
    "r_sq = model.score(x, y)\n",
    "print(f\"coefficient of determination: {r_sq}\")\n",
    "print(f\"intercept: {model.intercept_}\")\n",
    "print(f\"slope: {model.coef_}\")\n"
   ]
  },
  {
   "cell_type": "code",
   "execution_count": null,
   "id": "312149e2",
   "metadata": {},
   "outputs": [],
   "source": [
    "\n",
    "\n"
   ]
  },
  {
   "cell_type": "code",
   "execution_count": null,
   "id": "c2e443c5",
   "metadata": {},
   "outputs": [],
   "source": [
    "\n",
    "\n",
    "print(df['species'].unique())\n"
   ]
  },
  {
   "cell_type": "code",
   "execution_count": null,
   "id": "c4c21802",
   "metadata": {},
   "outputs": [],
   "source": []
  }
 ],
 "metadata": {
  "kernelspec": {
   "display_name": "Python 3 (ipykernel)",
   "language": "python",
   "name": "python3"
  },
  "language_info": {
   "codemirror_mode": {
    "name": "ipython",
    "version": 3
   },
   "file_extension": ".py",
   "mimetype": "text/x-python",
   "name": "python",
   "nbconvert_exporter": "python",
   "pygments_lexer": "ipython3",
   "version": "3.9.12"
  }
 },
 "nbformat": 4,
 "nbformat_minor": 5
}
