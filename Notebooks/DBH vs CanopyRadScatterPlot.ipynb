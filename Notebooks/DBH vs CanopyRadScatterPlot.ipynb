{
  "cells": [
    {
      "cell_type": "code",
      "execution_count": 3,
      "id": "14d0a623",
      "metadata": {
        "id": "14d0a623"
      },
      "outputs": [],
      "source": [
        "import numpy as np\n",
        "from sklearn.linear_model import LinearRegression\n",
        "import pandas as pd\n",
        "df = pd.read_csv('YellowOrangeN.csv')\n",
        "df.head()\n",
        "x = np.array(df['canopy'].to_numpy()).reshape((-1, 1))\n",
        "y = np.array(df['DBH'].to_numpy())\n",
        "\n"
      ]
    },
    {
      "cell_type": "code",
      "execution_count": null,
      "id": "1c49be9d",
      "metadata": {
        "id": "1c49be9d",
        "outputId": "b9325490-3e17-4898-d75d-5a80702a2bd3"
      },
      "outputs": [
        {
          "name": "stdout",
          "output_type": "stream",
          "text": [
            "coefficient of determination: 0.7487943192464255\n",
            "intercept: -0.05623871664942223\n",
            "slope: [0.32349662]\n"
          ]
        }
      ],
      "source": [
        "model = LinearRegression().fit(x, y)\n",
        "r_sq = model.score(x, y)\n",
        "print(f\"coefficient of determination: {r_sq}\")\n",
        "print(f\"intercept: {model.intercept_}\")\n",
        "print(f\"slope: {model.coef_}\")\n"
      ]
    },
    {
      "cell_type": "code",
      "execution_count": null,
      "id": "312149e2",
      "metadata": {
        "id": "312149e2"
      },
      "outputs": [],
      "source": [
        "import matplotlib.pyplot as plt\n",
        "x=np.linspace(0,6,12)\n",
        "y=x\n",
        "plt.title=('DBH as a Function of Canopy Radius')\n",
        "plt.ylabel('DBH in meters')\n",
        "plt.xlabel('Canopy Radius in meters')\n",
        "plt.plot(y,52.74601791*x - 7.44181519, 'red')\n",
        "plt.grid()\n",
        "plt.show()\n",
        "\n",
        "\n"
      ]
    },
    {
      "cell_type": "code",
      "execution_count": null,
      "id": "885e2796",
      "metadata": {
        "id": "885e2796"
      },
      "outputs": [],
      "source": []
    }
  ],
  "metadata": {
    "kernelspec": {
      "display_name": "Python 3 (ipykernel)",
      "language": "python",
      "name": "python3"
    },
    "language_info": {
      "codemirror_mode": {
        "name": "ipython",
        "version": 3
      },
      "file_extension": ".py",
      "mimetype": "text/x-python",
      "name": "python",
      "nbconvert_exporter": "python",
      "pygments_lexer": "ipython3",
      "version": "3.9.12"
    },
    "colab": {
      "provenance": []
    }
  },
  "nbformat": 4,
  "nbformat_minor": 5
}