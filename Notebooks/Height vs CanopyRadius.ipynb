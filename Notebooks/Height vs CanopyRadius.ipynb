{
 "cells": [
  {
   "cell_type": "code",
   "execution_count": null,
   "id": "8c54ed5e",
   "metadata": {},
   "outputs": [],
   "source": [
    "import numpy as np\n",
    "from sklearn.linear_model import LinearRegression\n",
    "import pandas as pd\n",
    "df = pd.read_csv('/Users/edwardwong/documents/RedAnt/OrangeN.csv')\n",
    "\n",
    "x = np.array(df['canopy'].to_numpy()).reshape((-1, 1))\n",
    "y = np.array(df['height'].to_numpy())\n"
   ]
  },
  {
   "cell_type": "code",
   "execution_count": null,
   "id": "aef897b4",
   "metadata": {},
   "outputs": [],
   "source": [
    "model = LinearRegression().fit(x, y)\n",
    "r_sq = model.score(x, y)\n",
    "print(f\"coefficient of determination: {r_sq}\")\n",
    "print(f\"intercept: {model.intercept_}\")\n",
    "print(f\"slope: {model.coef_}\")\n"
   ]
  },
  {
   "cell_type": "code",
   "execution_count": null,
   "id": "94bc65eb",
   "metadata": {},
   "outputs": [],
   "source": [
    "import numpy as np\n",
    "import matplotlib.pyplot as plt\n",
    "x=np.linspace(0,50,100)\n",
    "y=x\n",
    "plt.title=('Height as a Function of Canopy Radius')\n",
    "plt.ylabel('Height/DBH in meters')\n",
    "plt.xlabel('Canopy Radius in meters')\n",
    "plt.plot(y, 0.52546413*x + 0.07237731348483012, 'blue')\n",
    "plt.plot(y, 1.96564112*x + 0.640756905685971, 'red')\n",
    "plt.plot(y,0.5687476345*x - 0.0821235449, 'green')\n",
    "plt.plot(y,1.89727441*x + 0.69222484, 'purple')\n",
    "plt.plot(y,0.3234010579*x - 0.0563568069, 'yellow')\n",
    "plt.plot(y,2.17764468*x + 0.51868152, 'orange')\n",
    "plt.grid()\n",
    "plt.show()\n",
    "\n",
    "\n"
   ]
  },
  {
   "cell_type": "code",
   "execution_count": null,
   "id": "c9ebd3b8",
   "metadata": {},
   "outputs": [],
   "source": []
  },
  {
   "cell_type": "code",
   "execution_count": null,
   "id": "50827597",
   "metadata": {},
   "outputs": [],
   "source": []
  }
 ],
 "metadata": {
  "kernelspec": {
   "display_name": "Python 3 (ipykernel)",
   "language": "python",
   "name": "python3"
  },
  "language_info": {
   "codemirror_mode": {
    "name": "ipython",
    "version": 3
   },
   "file_extension": ".py",
   "mimetype": "text/x-python",
   "name": "python",
   "nbconvert_exporter": "python",
   "pygments_lexer": "ipython3",
   "version": "3.9.12"
  }
 },
 "nbformat": 4,
 "nbformat_minor": 5
}
