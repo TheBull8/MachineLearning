{
  "cells": [
    {
      "cell_type": "code",
      "execution_count": 43,
      "id": "986d015f",
      "metadata": {
        "id": "986d015f"
      },
      "outputs": [],
      "source": [
        "import numpy as np\n",
        "from sklearn.linear_model import LinearRegression\n",
        "from sklearn.preprocessing import PolynomialFeatures\n",
        "import statsmodels.api as sm\n",
        "import pandas as pd\n",
        "import seaborn as sns\n",
        "%matplotlib inline\n"
      ]
    },
    {
      "cell_type": "code",
      "execution_count": 44,
      "id": "39ac21db",
      "metadata": {
        "id": "39ac21db",
        "outputId": "dec2ab17-2747-412a-abd0-e61dad11383b",
        "colab": {
          "base_uri": "https://localhost:8080/",
          "height": 620
        }
      },
      "outputs": [
        {
          "output_type": "execute_result",
          "data": {
            "text/plain": [
              "   Unnamed: 0                                           location          lat  \\\n",
              "0         NaN  89 Moo 15 Tumtaopattana village Klangdong sub-...  1.46919E+16   \n",
              "1         NaN  89 Moo 15 Tumtaopattana village Klangdong sub-...  1.46915E+16   \n",
              "2         NaN  89 Moo 15 Tumtaopattana village Klangdong sub-...   1.4692E+16   \n",
              "3         NaN  89 Moo 15 Tumtaopattana village Klangdong sub-...   1.4692E+16   \n",
              "4         NaN  89 Moo 15 Tumtaopattana village Klangdong sub-...  1.46921E+16   \n",
              "\n",
              "           lon   id           species datePlanted  height   DBH  canopy  ...  \\\n",
              "0  1.01243E+17  548  Persea americana      Feb-22     0.5  0.02    0.20  ...   \n",
              "1  1.01243E+17  516  Persea americana      Feb-22     0.6  0.02    0.20  ...   \n",
              "2  1.01243E+17  557  Persea americana      Feb-22     0.6  0.02    0.17  ...   \n",
              "3  1.01243E+17  561  Persea americana      Feb-22     0.6  0.02    0.15  ...   \n",
              "4  1.01243E+17  563  Persea americana      Feb-22     0.6  0.01    0.25  ...   \n",
              "\n",
              "   Unnamed: 12  Unnamed: 13  Unnamed: 14  Unnamed: 15  Unnamed: 16  \\\n",
              "0          NaN          NaN          NaN          NaN          NaN   \n",
              "1          NaN          NaN          NaN          NaN          NaN   \n",
              "2          NaN          NaN          NaN          NaN          NaN   \n",
              "3          NaN          NaN          NaN          NaN          NaN   \n",
              "4          NaN          NaN          NaN          NaN          NaN   \n",
              "\n",
              "   Unnamed: 17  Unnamed: 18  Unnamed: 19  Unnamed: 20 Unnamed: 21  \n",
              "0          NaN          NaN          NaN          NaN         NaN  \n",
              "1          NaN          NaN          NaN          NaN         NaN  \n",
              "2          NaN          NaN          NaN          NaN         NaN  \n",
              "3          NaN          NaN          NaN          NaN         NaN  \n",
              "4          NaN          NaN          NaN          NaN         NaN  \n",
              "\n",
              "[5 rows x 22 columns]"
            ],
            "text/html": [
              "\n",
              "  <div id=\"df-ebb92766-dc60-4d0c-8d00-2cd9cf2acbda\" class=\"colab-df-container\">\n",
              "    <div>\n",
              "<style scoped>\n",
              "    .dataframe tbody tr th:only-of-type {\n",
              "        vertical-align: middle;\n",
              "    }\n",
              "\n",
              "    .dataframe tbody tr th {\n",
              "        vertical-align: top;\n",
              "    }\n",
              "\n",
              "    .dataframe thead th {\n",
              "        text-align: right;\n",
              "    }\n",
              "</style>\n",
              "<table border=\"1\" class=\"dataframe\">\n",
              "  <thead>\n",
              "    <tr style=\"text-align: right;\">\n",
              "      <th></th>\n",
              "      <th>Unnamed: 0</th>\n",
              "      <th>location</th>\n",
              "      <th>lat</th>\n",
              "      <th>lon</th>\n",
              "      <th>id</th>\n",
              "      <th>species</th>\n",
              "      <th>datePlanted</th>\n",
              "      <th>height</th>\n",
              "      <th>DBH</th>\n",
              "      <th>canopy</th>\n",
              "      <th>...</th>\n",
              "      <th>Unnamed: 12</th>\n",
              "      <th>Unnamed: 13</th>\n",
              "      <th>Unnamed: 14</th>\n",
              "      <th>Unnamed: 15</th>\n",
              "      <th>Unnamed: 16</th>\n",
              "      <th>Unnamed: 17</th>\n",
              "      <th>Unnamed: 18</th>\n",
              "      <th>Unnamed: 19</th>\n",
              "      <th>Unnamed: 20</th>\n",
              "      <th>Unnamed: 21</th>\n",
              "    </tr>\n",
              "  </thead>\n",
              "  <tbody>\n",
              "    <tr>\n",
              "      <th>0</th>\n",
              "      <td>NaN</td>\n",
              "      <td>89 Moo 15 Tumtaopattana village Klangdong sub-...</td>\n",
              "      <td>1.46919E+16</td>\n",
              "      <td>1.01243E+17</td>\n",
              "      <td>548</td>\n",
              "      <td>Persea americana</td>\n",
              "      <td>Feb-22</td>\n",
              "      <td>0.5</td>\n",
              "      <td>0.02</td>\n",
              "      <td>0.20</td>\n",
              "      <td>...</td>\n",
              "      <td>NaN</td>\n",
              "      <td>NaN</td>\n",
              "      <td>NaN</td>\n",
              "      <td>NaN</td>\n",
              "      <td>NaN</td>\n",
              "      <td>NaN</td>\n",
              "      <td>NaN</td>\n",
              "      <td>NaN</td>\n",
              "      <td>NaN</td>\n",
              "      <td>NaN</td>\n",
              "    </tr>\n",
              "    <tr>\n",
              "      <th>1</th>\n",
              "      <td>NaN</td>\n",
              "      <td>89 Moo 15 Tumtaopattana village Klangdong sub-...</td>\n",
              "      <td>1.46915E+16</td>\n",
              "      <td>1.01243E+17</td>\n",
              "      <td>516</td>\n",
              "      <td>Persea americana</td>\n",
              "      <td>Feb-22</td>\n",
              "      <td>0.6</td>\n",
              "      <td>0.02</td>\n",
              "      <td>0.20</td>\n",
              "      <td>...</td>\n",
              "      <td>NaN</td>\n",
              "      <td>NaN</td>\n",
              "      <td>NaN</td>\n",
              "      <td>NaN</td>\n",
              "      <td>NaN</td>\n",
              "      <td>NaN</td>\n",
              "      <td>NaN</td>\n",
              "      <td>NaN</td>\n",
              "      <td>NaN</td>\n",
              "      <td>NaN</td>\n",
              "    </tr>\n",
              "    <tr>\n",
              "      <th>2</th>\n",
              "      <td>NaN</td>\n",
              "      <td>89 Moo 15 Tumtaopattana village Klangdong sub-...</td>\n",
              "      <td>1.4692E+16</td>\n",
              "      <td>1.01243E+17</td>\n",
              "      <td>557</td>\n",
              "      <td>Persea americana</td>\n",
              "      <td>Feb-22</td>\n",
              "      <td>0.6</td>\n",
              "      <td>0.02</td>\n",
              "      <td>0.17</td>\n",
              "      <td>...</td>\n",
              "      <td>NaN</td>\n",
              "      <td>NaN</td>\n",
              "      <td>NaN</td>\n",
              "      <td>NaN</td>\n",
              "      <td>NaN</td>\n",
              "      <td>NaN</td>\n",
              "      <td>NaN</td>\n",
              "      <td>NaN</td>\n",
              "      <td>NaN</td>\n",
              "      <td>NaN</td>\n",
              "    </tr>\n",
              "    <tr>\n",
              "      <th>3</th>\n",
              "      <td>NaN</td>\n",
              "      <td>89 Moo 15 Tumtaopattana village Klangdong sub-...</td>\n",
              "      <td>1.4692E+16</td>\n",
              "      <td>1.01243E+17</td>\n",
              "      <td>561</td>\n",
              "      <td>Persea americana</td>\n",
              "      <td>Feb-22</td>\n",
              "      <td>0.6</td>\n",
              "      <td>0.02</td>\n",
              "      <td>0.15</td>\n",
              "      <td>...</td>\n",
              "      <td>NaN</td>\n",
              "      <td>NaN</td>\n",
              "      <td>NaN</td>\n",
              "      <td>NaN</td>\n",
              "      <td>NaN</td>\n",
              "      <td>NaN</td>\n",
              "      <td>NaN</td>\n",
              "      <td>NaN</td>\n",
              "      <td>NaN</td>\n",
              "      <td>NaN</td>\n",
              "    </tr>\n",
              "    <tr>\n",
              "      <th>4</th>\n",
              "      <td>NaN</td>\n",
              "      <td>89 Moo 15 Tumtaopattana village Klangdong sub-...</td>\n",
              "      <td>1.46921E+16</td>\n",
              "      <td>1.01243E+17</td>\n",
              "      <td>563</td>\n",
              "      <td>Persea americana</td>\n",
              "      <td>Feb-22</td>\n",
              "      <td>0.6</td>\n",
              "      <td>0.01</td>\n",
              "      <td>0.25</td>\n",
              "      <td>...</td>\n",
              "      <td>NaN</td>\n",
              "      <td>NaN</td>\n",
              "      <td>NaN</td>\n",
              "      <td>NaN</td>\n",
              "      <td>NaN</td>\n",
              "      <td>NaN</td>\n",
              "      <td>NaN</td>\n",
              "      <td>NaN</td>\n",
              "      <td>NaN</td>\n",
              "      <td>NaN</td>\n",
              "    </tr>\n",
              "  </tbody>\n",
              "</table>\n",
              "<p>5 rows × 22 columns</p>\n",
              "</div>\n",
              "    <div class=\"colab-df-buttons\">\n",
              "\n",
              "  <div class=\"colab-df-container\">\n",
              "    <button class=\"colab-df-convert\" onclick=\"convertToInteractive('df-ebb92766-dc60-4d0c-8d00-2cd9cf2acbda')\"\n",
              "            title=\"Convert this dataframe to an interactive table.\"\n",
              "            style=\"display:none;\">\n",
              "\n",
              "  <svg xmlns=\"http://www.w3.org/2000/svg\" height=\"24px\" viewBox=\"0 -960 960 960\">\n",
              "    <path d=\"M120-120v-720h720v720H120Zm60-500h600v-160H180v160Zm220 220h160v-160H400v160Zm0 220h160v-160H400v160ZM180-400h160v-160H180v160Zm440 0h160v-160H620v160ZM180-180h160v-160H180v160Zm440 0h160v-160H620v160Z\"/>\n",
              "  </svg>\n",
              "    </button>\n",
              "\n",
              "  <style>\n",
              "    .colab-df-container {\n",
              "      display:flex;\n",
              "      gap: 12px;\n",
              "    }\n",
              "\n",
              "    .colab-df-convert {\n",
              "      background-color: #E8F0FE;\n",
              "      border: none;\n",
              "      border-radius: 50%;\n",
              "      cursor: pointer;\n",
              "      display: none;\n",
              "      fill: #1967D2;\n",
              "      height: 32px;\n",
              "      padding: 0 0 0 0;\n",
              "      width: 32px;\n",
              "    }\n",
              "\n",
              "    .colab-df-convert:hover {\n",
              "      background-color: #E2EBFA;\n",
              "      box-shadow: 0px 1px 2px rgba(60, 64, 67, 0.3), 0px 1px 3px 1px rgba(60, 64, 67, 0.15);\n",
              "      fill: #174EA6;\n",
              "    }\n",
              "\n",
              "    .colab-df-buttons div {\n",
              "      margin-bottom: 4px;\n",
              "    }\n",
              "\n",
              "    [theme=dark] .colab-df-convert {\n",
              "      background-color: #3B4455;\n",
              "      fill: #D2E3FC;\n",
              "    }\n",
              "\n",
              "    [theme=dark] .colab-df-convert:hover {\n",
              "      background-color: #434B5C;\n",
              "      box-shadow: 0px 1px 3px 1px rgba(0, 0, 0, 0.15);\n",
              "      filter: drop-shadow(0px 1px 2px rgba(0, 0, 0, 0.3));\n",
              "      fill: #FFFFFF;\n",
              "    }\n",
              "  </style>\n",
              "\n",
              "    <script>\n",
              "      const buttonEl =\n",
              "        document.querySelector('#df-ebb92766-dc60-4d0c-8d00-2cd9cf2acbda button.colab-df-convert');\n",
              "      buttonEl.style.display =\n",
              "        google.colab.kernel.accessAllowed ? 'block' : 'none';\n",
              "\n",
              "      async function convertToInteractive(key) {\n",
              "        const element = document.querySelector('#df-ebb92766-dc60-4d0c-8d00-2cd9cf2acbda');\n",
              "        const dataTable =\n",
              "          await google.colab.kernel.invokeFunction('convertToInteractive',\n",
              "                                                    [key], {});\n",
              "        if (!dataTable) return;\n",
              "\n",
              "        const docLinkHtml = 'Like what you see? Visit the ' +\n",
              "          '<a target=\"_blank\" href=https://colab.research.google.com/notebooks/data_table.ipynb>data table notebook</a>'\n",
              "          + ' to learn more about interactive tables.';\n",
              "        element.innerHTML = '';\n",
              "        dataTable['output_type'] = 'display_data';\n",
              "        await google.colab.output.renderOutput(dataTable, element);\n",
              "        const docLink = document.createElement('div');\n",
              "        docLink.innerHTML = docLinkHtml;\n",
              "        element.appendChild(docLink);\n",
              "      }\n",
              "    </script>\n",
              "  </div>\n",
              "\n",
              "\n",
              "<div id=\"df-62b7fd3f-0805-4e54-add0-b2351bb706dc\">\n",
              "  <button class=\"colab-df-quickchart\" onclick=\"quickchart('df-62b7fd3f-0805-4e54-add0-b2351bb706dc')\"\n",
              "            title=\"Suggest charts.\"\n",
              "            style=\"display:none;\">\n",
              "\n",
              "<svg xmlns=\"http://www.w3.org/2000/svg\" height=\"24px\"viewBox=\"0 0 24 24\"\n",
              "     width=\"24px\">\n",
              "    <g>\n",
              "        <path d=\"M19 3H5c-1.1 0-2 .9-2 2v14c0 1.1.9 2 2 2h14c1.1 0 2-.9 2-2V5c0-1.1-.9-2-2-2zM9 17H7v-7h2v7zm4 0h-2V7h2v10zm4 0h-2v-4h2v4z\"/>\n",
              "    </g>\n",
              "</svg>\n",
              "  </button>\n",
              "\n",
              "<style>\n",
              "  .colab-df-quickchart {\n",
              "    background-color: #E8F0FE;\n",
              "    border: none;\n",
              "    border-radius: 50%;\n",
              "    cursor: pointer;\n",
              "    display: none;\n",
              "    fill: #1967D2;\n",
              "    height: 32px;\n",
              "    padding: 0 0 0 0;\n",
              "    width: 32px;\n",
              "  }\n",
              "\n",
              "  .colab-df-quickchart:hover {\n",
              "    background-color: #E2EBFA;\n",
              "    box-shadow: 0px 1px 2px rgba(60, 64, 67, 0.3), 0px 1px 3px 1px rgba(60, 64, 67, 0.15);\n",
              "    fill: #174EA6;\n",
              "  }\n",
              "\n",
              "  [theme=dark] .colab-df-quickchart {\n",
              "    background-color: #3B4455;\n",
              "    fill: #D2E3FC;\n",
              "  }\n",
              "\n",
              "  [theme=dark] .colab-df-quickchart:hover {\n",
              "    background-color: #434B5C;\n",
              "    box-shadow: 0px 1px 3px 1px rgba(0, 0, 0, 0.15);\n",
              "    filter: drop-shadow(0px 1px 2px rgba(0, 0, 0, 0.3));\n",
              "    fill: #FFFFFF;\n",
              "  }\n",
              "</style>\n",
              "\n",
              "  <script>\n",
              "    async function quickchart(key) {\n",
              "      const charts = await google.colab.kernel.invokeFunction(\n",
              "          'suggestCharts', [key], {});\n",
              "    }\n",
              "    (() => {\n",
              "      let quickchartButtonEl =\n",
              "        document.querySelector('#df-62b7fd3f-0805-4e54-add0-b2351bb706dc button');\n",
              "      quickchartButtonEl.style.display =\n",
              "        google.colab.kernel.accessAllowed ? 'block' : 'none';\n",
              "    })();\n",
              "  </script>\n",
              "</div>\n",
              "    </div>\n",
              "  </div>\n"
            ]
          },
          "metadata": {},
          "execution_count": 44
        }
      ],
      "source": [
        "df = pd.read_csv('OrangeN.csv')\n",
        "df.head()\n",
        "#x = np.array(df['canopy'].to_numpy()).reshape((-1, 1))\n",
        "#y = np.array(df['height'].to_numpy())\n"
      ]
    },
    {
      "cell_type": "code",
      "source": [
        "\n",
        "sns.pairplot(df, x_vars=['canopy'], y_vars='DBH', height=7, aspect=0.7, kind='reg')\n",
        "sns.pairplot(df, x_vars=['canopy'], y_vars='height', height=7, aspect=0.7, kind='reg')"
      ],
      "metadata": {
        "id": "F8ucjSKNEqv0",
        "outputId": "6a4930bf-844f-4b0a-d163-e9f7b68d40d4",
        "colab": {
          "base_uri": "https://localhost:8080/",
          "height": 1000
        }
      },
      "id": "F8ucjSKNEqv0",
      "execution_count": 57,
      "outputs": [
        {
          "output_type": "execute_result",
          "data": {
            "text/plain": [
              "<seaborn.axisgrid.PairGrid at 0x7ebc52c4d060>"
            ]
          },
          "metadata": {},
          "execution_count": 57
        },
        {
          "output_type": "display_data",
          "data": {
            "text/plain": [
              "<Figure size 490x700 with 1 Axes>"
            ],
            "image/png": "[encoded data removed]"
          },
          "metadata": {}
        },
        {
          "output_type": "display_data",
          "data": {
            "text/plain": [
              "<Figure size 490x700 with 1 Axes>"
            ],
            "image/png": "[encoded data removed]"
          },
          "metadata": {}
        }
      ]
    },
    {
      "cell_type": "code",
      "execution_count": 52,
      "id": "c7fc7e35",
      "metadata": {
        "id": "c7fc7e35"
      },
      "outputs": [],
      "source": [
        "from sklearn.model_selection import train_test_split\n",
        "\n",
        "#change DBH to height or DBH\n",
        "X, y = df['canopy'], df['DBH']\n",
        "\n",
        "#random_state = 8. 8 is the seed, do NOT change\n",
        "#default split 75/25 from training set to testing set split\n",
        "X_train, X_test, y_train, y_test = train_test_split(X, y, random_state=8)\n",
        "\n",
        "\n"
      ]
    },
    {
      "cell_type": "code",
      "source": [],
      "metadata": {
        "id": "Zeq5_UlCJzmo"
      },
      "id": "Zeq5_UlCJzmo",
      "execution_count": 31,
      "outputs": []
    },
    {
      "cell_type": "code",
      "execution_count": 53,
      "id": "d9e3ca61",
      "metadata": {
        "id": "d9e3ca61",
        "outputId": "b2f48db0-f4c2-4cdc-acc8-b60f40399263",
        "colab": {
          "base_uri": "https://localhost:8080/"
        }
      },
      "outputs": [
        {
          "output_type": "stream",
          "name": "stdout",
          "text": [
            "intercept: -0.05861833788880513\n",
            "slope: [0.32160718]\n"
          ]
        }
      ],
      "source": [
        "#it wouldn't work without reshaping, I don't know why\n",
        "X2 = np.array(X_train.to_numpy()).reshape((-1, 1))\n",
        "\n",
        "model = LinearRegression().fit(X2, y_train)\n",
        "\n",
        "print(f\"intercept: {model.intercept_}\")\n",
        "print(f\"slope: {model.coef_}\")"
      ]
    },
    {
      "cell_type": "code",
      "source": [
        "x_test = np.array(X_test.to_numpy()).reshape((-1, 1))\n",
        "y_pred = model.predict(x_test)\n",
        "\n",
        "from sklearn import metrics\n",
        "print(np.sqrt(metrics.mean_squared_error(y_test, y_pred)))\n"
      ],
      "metadata": {
        "id": "S1eOMdDNnrf1",
        "outputId": "9e0e5723-363c-442b-e7f1-dfa3fc39e3e3",
        "colab": {
          "base_uri": "https://localhost:8080/"
        }
      },
      "id": "S1eOMdDNnrf1",
      "execution_count": 54,
      "outputs": [
        {
          "output_type": "stream",
          "name": "stdout",
          "text": [
            "0.0674179877564293\n"
          ]
        }
      ]
    },
    {
      "cell_type": "code",
      "execution_count": 56,
      "id": "5584a611",
      "metadata": {
        "id": "5584a611",
        "outputId": "0d2a5652-de8f-4a11-cf2c-2f11e1b40e5d",
        "colab": {
          "base_uri": "https://localhost:8080/"
        }
      },
      "outputs": [
        {
          "output_type": "stream",
          "name": "stdout",
          "text": [
            "coefficient of determination: 0.7358171679319021\n",
            "intercept: -0.05861833788880513\n",
            "coefficients: [0.32160718]\n"
          ]
        }
      ],
      "source": [
        "r_sq = model.score(X2, y_train)\n",
        "print(f\"coefficient of determination: {r_sq}\")\n",
        "print(f\"intercept: {model.intercept_}\")\n",
        "print(f\"coefficients: {model.coef_}\")"
      ]
    },
    {
      "cell_type": "code",
      "execution_count": null,
      "id": "307e46b0",
      "metadata": {
        "id": "307e46b0",
        "outputId": "58914547-5f79-473f-b1ab-3727c038584b"
      },
      "outputs": [
        {
          "name": "stdout",
          "output_type": "stream",
          "text": [
            "predicted response:\n",
            "[0.91061962 1.12201991 1.0137172  1.10819742 1.14990889 1.08079642\n",
            " 1.08079642 1.12201991 1.20666282 1.08079642 1.08079642 1.05372074\n",
            " 1.05372074 1.10819742 1.22105463 1.09445625 1.14990889 1.14990889\n",
            " 1.1781232  1.20666282 1.14990889 1.35424076 1.32407453 1.14990889\n",
            " 1.14990889 1.22105463 1.08079642 1.14990889 1.14990889 1.16397538\n",
            " 1.60728217 1.30911341 1.14990889 1.20666282 1.22105463 1.33911698\n",
            " 1.29423362 1.22105463 1.29423362 1.14990889 1.36944587 1.36944587\n",
            " 1.09445625 1.14990889 1.23552777 1.14990889 1.26471803 1.36944587\n",
            " 1.29423362 1.29423362 1.29423362 1.08079642 1.60728217 1.16397538\n",
            " 1.22105463 1.33911698 1.57451337 1.14990889 1.22105463 1.19235234\n",
            " 1.32407453 1.14990889 1.14990889 1.44669138 1.69062745 1.44669138\n",
            " 1.20666282 1.44669138 1.19235234 1.52597014 1.30911341 1.23552777\n",
            " 1.14990889 1.14990889 1.22105463 1.22105463 2.13785272 1.44669138\n",
            " 1.29423362 1.77600599 1.60728217 1.36944587 1.29423362 1.14990889\n",
            " 1.14990889 1.95286284 2.13785272 2.13785272 1.60728217 1.19235234\n",
            " 1.29423362 1.52597014 1.29423362 1.36944587 1.22105463 1.36944587\n",
            " 1.22105463 1.22105463 1.22105463 1.22105463 1.29423362 1.36944587\n",
            " 1.25008223 1.29423362 1.29423362 1.69062745 2.04434115 1.95286284\n",
            " 1.60728217 2.13785272 1.29423362 2.04434115 1.60728217 0.98745482\n",
            " 1.38473231 1.14990889 1.29423362 1.52597014 2.13785272 1.95286284\n",
            " 1.77600599 2.33097563 1.95286284 2.74162055 2.04434115 1.86341778\n",
            " 1.77600599 1.95286284 2.04434115 2.04434115 2.43058698 2.23339755\n",
            " 1.52597014 1.14990889 1.36944587 1.29423362 2.04434115 2.04434115\n",
            " 2.74162055 2.04434115 2.33097563 2.04434115 1.86341778 2.23339755\n",
            " 2.04434115 1.74161058 1.95286284 1.95286284 2.43058698 2.33097563\n",
            " 1.60728217 1.86341778 1.95286284 2.5941943  2.13785272 1.60728217\n",
            " 1.52597014 2.43058698 2.43058698 2.33097563 2.53223158 2.04434115\n",
            " 2.23339755 2.04434115 2.13785272 1.95286284 2.23339755 2.04434115\n",
            " 2.43058698 1.77600599 2.23339755 2.33097563 2.23339755 2.04434115\n",
            " 3.07095345 2.43058698 2.33097563 2.23339755 2.43058698 2.43058698\n",
            " 2.33097563 2.23339755 2.13785272 1.44669138 2.53223158 1.95286284\n",
            " 2.04434115 1.86341778 2.63590944 2.43058698 2.63590944 1.77600599\n",
            " 1.95286284 2.13785272 1.86341778 1.95286284 2.04434115 2.63590944\n",
            " 2.63590944 1.86341778 2.33097563 2.13785272 2.656889   2.04434115\n",
            " 2.33097563 1.86341778 2.95914256 2.23339755 2.13785272 2.13785272\n",
            " 2.33097563 3.07095345 2.53223158 2.04434115 2.23339755 2.13785272\n",
            " 2.43058698 1.86341778 2.53223158 2.33097563 2.33097563 2.33097563\n",
            " 2.13785272 2.04434115 1.77600599 1.77600599 2.23339755 2.74162055\n",
            " 2.33097563 2.33097563 2.84936493 2.53223158 2.84936493 2.13785272\n",
            " 2.04434115 2.23339755 2.04434115 2.43058698 2.84936493 3.1847976\n",
            " 2.53223158 2.53223158 2.84936493 2.74162055 2.13785272 2.53223158\n",
            " 2.95914256 2.04434115 2.33097563 2.43058698 2.13785272 2.74162055\n",
            " 2.84936493 2.33097563 2.53223158 2.74162055 2.53223158 3.300675\n",
            " 2.84936493 2.74162055 2.23339755 2.74162055 3.41858567 2.84936493\n",
            " 2.53223158 3.300675   3.53852959 2.95914256 2.74162055 2.95914256\n",
            " 2.63590944 2.23339755 2.63590944 2.33097563 3.07095345 2.95914256\n",
            " 2.84936493 2.53223158 3.300675   2.74162055 2.84936493 2.74162055\n",
            " 3.07095345 2.95914256 2.74162055 2.53223158 3.1847976  3.1847976\n",
            " 2.53223158 3.66050677 3.300675   2.95914256 2.33097563 2.95914256\n",
            " 2.74162055 3.66050677 3.1847976  3.53852959 3.1847976  2.63590944\n",
            " 3.300675   3.300675   2.84936493 2.43058698 2.84936493 3.07095345\n",
            " 3.300675   2.84936493 3.1847976  3.41858567 3.66050677 2.63590944\n",
            " 3.7845172  3.53852959 3.07095345 2.74162055 3.1847976  3.41858567\n",
            " 3.300675   3.1847976  3.300675   3.66050677 2.43058698 4.43506825\n",
            " 3.7845172  3.53852959 3.9105609  2.63590944 3.66050677 4.03863785\n",
            " 3.66050677 3.53852959 3.300675   3.53852959 3.41858567 3.7845172\n",
            " 3.66050677 3.7845172  3.9105609  3.53852959 3.7845172  5.13645075\n",
            " 3.7845172 ]\n"
          ]
        }
      ],
      "source": [
        "y_pred = model.predict(x_)\n",
        "print(f\"predicted response:\\n{y_pred}\")"
      ]
    },
    {
      "cell_type": "code",
      "execution_count": null,
      "id": "d6d0c439",
      "metadata": {
        "id": "d6d0c439"
      },
      "outputs": [],
      "source": [
        "\n",
        "x = sm.add_constant(x)"
      ]
    },
    {
      "cell_type": "code",
      "execution_count": null,
      "id": "f0d291c0",
      "metadata": {
        "id": "f0d291c0",
        "outputId": "d2809ef9-29e6-422b-c59e-f4e9e9a82e4d"
      },
      "outputs": [
        {
          "name": "stdout",
          "output_type": "stream",
          "text": [
            "                            OLS Regression Results                            \n",
            "==============================================================================\n",
            "Dep. Variable:                      y   R-squared:                       0.817\n",
            "Model:                            OLS   Adj. R-squared:                  0.817\n",
            "Method:                 Least Squares   F-statistic:                     1523.\n",
            "Date:                Tue, 01 Aug 2023   Prob (F-statistic):          7.73e-128\n",
            "Time:                        14:57:52   Log-Likelihood:                -153.11\n",
            "No. Observations:                 343   AIC:                             310.2\n",
            "Df Residuals:                     341   BIC:                             317.9\n",
            "Df Model:                           1                                         \n",
            "Covariance Type:            nonrobust                                         \n",
            "==============================================================================\n",
            "                 coef    std err          t      P>|t|      [0.025      0.975]\n",
            "------------------------------------------------------------------------------\n",
            "const          0.6945      0.043     16.310      0.000       0.611       0.778\n",
            "x1             1.8953      0.049     39.030      0.000       1.800       1.991\n",
            "==============================================================================\n",
            "Omnibus:                        1.669   Durbin-Watson:                   1.117\n",
            "Prob(Omnibus):                  0.434   Jarque-Bera (JB):                1.420\n",
            "Skew:                           0.140   Prob(JB):                        0.492\n",
            "Kurtosis:                       3.143   Cond. No.                         3.94\n",
            "==============================================================================\n",
            "\n",
            "Notes:\n",
            "[1] Standard Errors assume that the covariance matrix of the errors is correctly specified.\n"
          ]
        }
      ],
      "source": [
        "model = sm.OLS(y, x)\n",
        "results = model.fit()\n",
        "print(results.summary())\n"
      ]
    },
    {
      "cell_type": "code",
      "execution_count": 29,
      "id": "ac4f4b08",
      "metadata": {
        "id": "ac4f4b08",
        "outputId": "4f40d133-7181-4fec-f8ac-891a8dbc7925",
        "colab": {
          "base_uri": "https://localhost:8080/",
          "height": 495
        }
      },
      "outputs": [
        {
          "output_type": "error",
          "ename": "ValueError",
          "evalue": "ignored",
          "traceback": [
            "\u001b[0;31m---------------------------------------------------------------------------\u001b[0m",
            "\u001b[0;31mValueError\u001b[0m                                Traceback (most recent call last)",
            "\u001b[0;32m<ipython-input-29-b352c0901f35>\u001b[0m in \u001b[0;36m<cell line: 1>\u001b[0;34m()\u001b[0m\n\u001b[0;32m----> 1\u001b[0;31m \u001b[0my_pred\u001b[0m \u001b[0;34m=\u001b[0m \u001b[0mmodel\u001b[0m\u001b[0;34m.\u001b[0m\u001b[0mpredict\u001b[0m\u001b[0;34m(\u001b[0m\u001b[0mX_test\u001b[0m\u001b[0;34m)\u001b[0m\u001b[0;34m\u001b[0m\u001b[0;34m\u001b[0m\u001b[0m\n\u001b[0m\u001b[1;32m      2\u001b[0m \u001b[0mprint\u001b[0m\u001b[0;34m(\u001b[0m\u001b[0mnp\u001b[0m\u001b[0;34m.\u001b[0m\u001b[0msqrt\u001b[0m\u001b[0;34m(\u001b[0m\u001b[0mmetrics\u001b[0m\u001b[0;34m.\u001b[0m\u001b[0mmean_squared_error\u001b[0m\u001b[0;34m(\u001b[0m\u001b[0my_test\u001b[0m\u001b[0;34m,\u001b[0m \u001b[0my_pred\u001b[0m\u001b[0;34m)\u001b[0m\u001b[0;34m)\u001b[0m\u001b[0;34m)\u001b[0m\u001b[0;34m\u001b[0m\u001b[0;34m\u001b[0m\u001b[0m\n",
            "\u001b[0;32m/usr/local/lib/python3.10/dist-packages/sklearn/linear_model/_base.py\u001b[0m in \u001b[0;36mpredict\u001b[0;34m(self, X)\u001b[0m\n\u001b[1;32m    352\u001b[0m             \u001b[0mReturns\u001b[0m \u001b[0mpredicted\u001b[0m \u001b[0mvalues\u001b[0m\u001b[0;34m.\u001b[0m\u001b[0;34m\u001b[0m\u001b[0;34m\u001b[0m\u001b[0m\n\u001b[1;32m    353\u001b[0m         \"\"\"\n\u001b[0;32m--> 354\u001b[0;31m         \u001b[0;32mreturn\u001b[0m \u001b[0mself\u001b[0m\u001b[0;34m.\u001b[0m\u001b[0m_decision_function\u001b[0m\u001b[0;34m(\u001b[0m\u001b[0mX\u001b[0m\u001b[0;34m)\u001b[0m\u001b[0;34m\u001b[0m\u001b[0;34m\u001b[0m\u001b[0m\n\u001b[0m\u001b[1;32m    355\u001b[0m \u001b[0;34m\u001b[0m\u001b[0m\n\u001b[1;32m    356\u001b[0m     \u001b[0;32mdef\u001b[0m \u001b[0m_set_intercept\u001b[0m\u001b[0;34m(\u001b[0m\u001b[0mself\u001b[0m\u001b[0;34m,\u001b[0m \u001b[0mX_offset\u001b[0m\u001b[0;34m,\u001b[0m \u001b[0my_offset\u001b[0m\u001b[0;34m,\u001b[0m \u001b[0mX_scale\u001b[0m\u001b[0;34m)\u001b[0m\u001b[0;34m:\u001b[0m\u001b[0;34m\u001b[0m\u001b[0;34m\u001b[0m\u001b[0m\n",
            "\u001b[0;32m/usr/local/lib/python3.10/dist-packages/sklearn/linear_model/_base.py\u001b[0m in \u001b[0;36m_decision_function\u001b[0;34m(self, X)\u001b[0m\n\u001b[1;32m    335\u001b[0m         \u001b[0mcheck_is_fitted\u001b[0m\u001b[0;34m(\u001b[0m\u001b[0mself\u001b[0m\u001b[0;34m)\u001b[0m\u001b[0;34m\u001b[0m\u001b[0;34m\u001b[0m\u001b[0m\n\u001b[1;32m    336\u001b[0m \u001b[0;34m\u001b[0m\u001b[0m\n\u001b[0;32m--> 337\u001b[0;31m         \u001b[0mX\u001b[0m \u001b[0;34m=\u001b[0m \u001b[0mself\u001b[0m\u001b[0;34m.\u001b[0m\u001b[0m_validate_data\u001b[0m\u001b[0;34m(\u001b[0m\u001b[0mX\u001b[0m\u001b[0;34m,\u001b[0m \u001b[0maccept_sparse\u001b[0m\u001b[0;34m=\u001b[0m\u001b[0;34m[\u001b[0m\u001b[0;34m\"csr\"\u001b[0m\u001b[0;34m,\u001b[0m \u001b[0;34m\"csc\"\u001b[0m\u001b[0;34m,\u001b[0m \u001b[0;34m\"coo\"\u001b[0m\u001b[0;34m]\u001b[0m\u001b[0;34m,\u001b[0m \u001b[0mreset\u001b[0m\u001b[0;34m=\u001b[0m\u001b[0;32mFalse\u001b[0m\u001b[0;34m)\u001b[0m\u001b[0;34m\u001b[0m\u001b[0;34m\u001b[0m\u001b[0m\n\u001b[0m\u001b[1;32m    338\u001b[0m         \u001b[0;32mreturn\u001b[0m \u001b[0msafe_sparse_dot\u001b[0m\u001b[0;34m(\u001b[0m\u001b[0mX\u001b[0m\u001b[0;34m,\u001b[0m \u001b[0mself\u001b[0m\u001b[0;34m.\u001b[0m\u001b[0mcoef_\u001b[0m\u001b[0;34m.\u001b[0m\u001b[0mT\u001b[0m\u001b[0;34m,\u001b[0m \u001b[0mdense_output\u001b[0m\u001b[0;34m=\u001b[0m\u001b[0;32mTrue\u001b[0m\u001b[0;34m)\u001b[0m \u001b[0;34m+\u001b[0m \u001b[0mself\u001b[0m\u001b[0;34m.\u001b[0m\u001b[0mintercept_\u001b[0m\u001b[0;34m\u001b[0m\u001b[0;34m\u001b[0m\u001b[0m\n\u001b[1;32m    339\u001b[0m \u001b[0;34m\u001b[0m\u001b[0m\n",
            "\u001b[0;32m/usr/local/lib/python3.10/dist-packages/sklearn/base.py\u001b[0m in \u001b[0;36m_validate_data\u001b[0;34m(self, X, y, reset, validate_separately, **check_params)\u001b[0m\n\u001b[1;32m    563\u001b[0m             \u001b[0;32mraise\u001b[0m \u001b[0mValueError\u001b[0m\u001b[0;34m(\u001b[0m\u001b[0;34m\"Validation should be done on X, y or both.\"\u001b[0m\u001b[0;34m)\u001b[0m\u001b[0;34m\u001b[0m\u001b[0;34m\u001b[0m\u001b[0m\n\u001b[1;32m    564\u001b[0m         \u001b[0;32melif\u001b[0m \u001b[0;32mnot\u001b[0m \u001b[0mno_val_X\u001b[0m \u001b[0;32mand\u001b[0m \u001b[0mno_val_y\u001b[0m\u001b[0;34m:\u001b[0m\u001b[0;34m\u001b[0m\u001b[0;34m\u001b[0m\u001b[0m\n\u001b[0;32m--> 565\u001b[0;31m             \u001b[0mX\u001b[0m \u001b[0;34m=\u001b[0m \u001b[0mcheck_array\u001b[0m\u001b[0;34m(\u001b[0m\u001b[0mX\u001b[0m\u001b[0;34m,\u001b[0m \u001b[0minput_name\u001b[0m\u001b[0;34m=\u001b[0m\u001b[0;34m\"X\"\u001b[0m\u001b[0;34m,\u001b[0m \u001b[0;34m**\u001b[0m\u001b[0mcheck_params\u001b[0m\u001b[0;34m)\u001b[0m\u001b[0;34m\u001b[0m\u001b[0;34m\u001b[0m\u001b[0m\n\u001b[0m\u001b[1;32m    566\u001b[0m             \u001b[0mout\u001b[0m \u001b[0;34m=\u001b[0m \u001b[0mX\u001b[0m\u001b[0;34m\u001b[0m\u001b[0;34m\u001b[0m\u001b[0m\n\u001b[1;32m    567\u001b[0m         \u001b[0;32melif\u001b[0m \u001b[0mno_val_X\u001b[0m \u001b[0;32mand\u001b[0m \u001b[0;32mnot\u001b[0m \u001b[0mno_val_y\u001b[0m\u001b[0;34m:\u001b[0m\u001b[0;34m\u001b[0m\u001b[0;34m\u001b[0m\u001b[0m\n",
            "\u001b[0;32m/usr/local/lib/python3.10/dist-packages/sklearn/utils/validation.py\u001b[0m in \u001b[0;36mcheck_array\u001b[0;34m(array, accept_sparse, accept_large_sparse, dtype, order, copy, force_all_finite, ensure_2d, allow_nd, ensure_min_samples, ensure_min_features, estimator, input_name)\u001b[0m\n\u001b[1;32m    900\u001b[0m             \u001b[0;31m# If input is 1D raise error\u001b[0m\u001b[0;34m\u001b[0m\u001b[0;34m\u001b[0m\u001b[0m\n\u001b[1;32m    901\u001b[0m             \u001b[0;32mif\u001b[0m \u001b[0marray\u001b[0m\u001b[0;34m.\u001b[0m\u001b[0mndim\u001b[0m \u001b[0;34m==\u001b[0m \u001b[0;36m1\u001b[0m\u001b[0;34m:\u001b[0m\u001b[0;34m\u001b[0m\u001b[0;34m\u001b[0m\u001b[0m\n\u001b[0;32m--> 902\u001b[0;31m                 raise ValueError(\n\u001b[0m\u001b[1;32m    903\u001b[0m                     \u001b[0;34m\"Expected 2D array, got 1D array instead:\\narray={}.\\n\"\u001b[0m\u001b[0;34m\u001b[0m\u001b[0;34m\u001b[0m\u001b[0m\n\u001b[1;32m    904\u001b[0m                     \u001b[0;34m\"Reshape your data either using array.reshape(-1, 1) if \"\u001b[0m\u001b[0;34m\u001b[0m\u001b[0;34m\u001b[0m\u001b[0m\n",
            "\u001b[0;31mValueError\u001b[0m: Expected 2D array, got 1D array instead:\narray=[0.02 1.5  0.3  0.95 0.25 1.03 1.1  0.9  0.26 0.6  0.75 0.65 0.2  1.55\n 0.65 1.5  1.2  0.85 0.8  1.   1.15 1.   0.25 0.7  0.75 1.2  0.8  0.33\n 1.05 0.95 0.13 1.55 1.05 0.5  1.15 0.85 0.24 0.3  0.75 1.35 0.9  0.8\n 0.45 0.65 0.8  1.5  0.6  0.3  0.95 0.48 1.1  0.21 0.6  1.4  0.3  1.35\n 0.95 1.45 0.95 0.23 0.85 0.85 0.95 0.7  0.2  1.35 0.85 0.25 0.7  0.45\n 1.   0.17 1.   0.17 1.35 0.75 0.32 0.55 0.9  1.   0.24 0.3  0.8  0.75\n 1.   0.6 ].\nReshape your data either using array.reshape(-1, 1) if your data has a single feature or array.reshape(1, -1) if it contains a single sample."
          ]
        }
      ],
      "source": []
    }
  ],
  "metadata": {
    "kernelspec": {
      "display_name": "Python 3 (ipykernel)",
      "language": "python",
      "name": "python3"
    },
    "language_info": {
      "codemirror_mode": {
        "name": "ipython",
        "version": 3
      },
      "file_extension": ".py",
      "mimetype": "text/x-python",
      "name": "python",
      "nbconvert_exporter": "python",
      "pygments_lexer": "ipython3",
      "version": "3.9.12"
    },
    "colab": {
      "provenance": []
    }
  },
  "nbformat": 4,
  "nbformat_minor": 5
}