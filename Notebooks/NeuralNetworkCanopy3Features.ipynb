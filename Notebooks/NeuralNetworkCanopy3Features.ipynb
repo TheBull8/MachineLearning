{
  "nbformat": 4,
  "nbformat_minor": 0,
  "metadata": {
    "colab": {
      "provenance": [],
      "authorship_tag": "ABX9TyMhnwARoa8MCCF7dAZpstnX",
      "include_colab_link": true
    },
    "kernelspec": {
      "name": "python3",
      "display_name": "Python 3"
    },
    "language_info": {
      "name": "python"
    }
  },
  "cells": [
    {
      "cell_type": "markdown",
      "metadata": {
        "id": "view-in-github",
        "colab_type": "text"
      },
      "source": [
        "<a href=\"https://colab.research.google.com/github/TheBull8/MachineLearning/blob/main/Notebooks/NeuralNetworkCanopy3Features.ipynb\" target=\"_parent\"><img src=\"https://colab.research.google.com/assets/colab-badge.svg\" alt=\"Open In Colab\"/></a>"
      ]
    },
    {
      "cell_type": "markdown",
      "source": [
        "Using Canopy Radius, we first determine the DBH as a test. We will then add additional features: age, species, and Lat/Lon.\n",
        "Tensorflow and Keras libraries."
      ],
      "metadata": {
        "id": "Sqlkf20a3Vom"
      }
    },
    {
      "cell_type": "code",
      "source": [
        "import numpy as np\n",
        "import pandas as pd\n",
        "from datetime import datetime\n",
        "from datetime import datetime, timedelta\n",
        "\n",
        "#Select either YellowN or OrangeN csv file\n",
        "df = pd.read_csv('YellowOrangeN.csv')"
      ],
      "metadata": {
        "id": "fPnMsAPY4hqg"
      },
      "execution_count": 1,
      "outputs": []
    },
    {
      "cell_type": "code",
      "source": [
        "#Age Column computing\n",
        "def convert_to_date(date_string):\n",
        "    return datetime.strptime(date_string, '%b-%y').date()\n",
        "\n",
        "df['DP2'] = df['datePlanted'].apply(convert_to_date)\n",
        "D1 = datetime.now() - timedelta(days=200)\n",
        "df['Age'] = (D1 - pd.to_datetime( df['datePlanted'].apply(convert_to_date))).dt.days\n"
      ],
      "metadata": {
        "id": "NcQ5Q7p75HkS"
      },
      "execution_count": 2,
      "outputs": []
    },
    {
      "cell_type": "code",
      "source": [
        "# Define a mapping dictionary\n",
        "mapping = {'Mangifera indica': 1, 'Persea americana': 2}\n",
        "\n",
        "# Create the new column by mapping the values\n",
        "df['speciesCode'] = df['species'].map(mapping)"
      ],
      "metadata": {
        "id": "0aF15xu_BI0f"
      },
      "execution_count": 3,
      "outputs": []
    },
    {
      "cell_type": "code",
      "source": [
        "x = df[['canopy', 'Age', 'speciesCode']].to_numpy().reshape((-1, 3))\n",
        "y = np.array(df['DBH'].to_numpy())\n"
      ],
      "metadata": {
        "id": "YMND-fki53iI"
      },
      "execution_count": null,
      "outputs": []
    },
    {
      "cell_type": "code",
      "source": [
        "import tensorflow as tf\n",
        "from tensorflow import keras\n",
        "from tensorflow.keras import layers\n",
        "\n",
        "# Generate some synthetic data for training\n",
        "np.random.seed(0)\n",
        "#X_train = np.random.rand(100, 3)  # 100 samples with 3 input features\n",
        "#y_train = 2 * X_train[:, 0] + 3 * X_train[:, 1] - 1 * X_train[:, 2] + np.random.randn(100)\n",
        "\n",
        "# Build the neural network model\n",
        "model = keras.Sequential([\n",
        "    layers.Dense(16, activation='relu', input_shape=(3,)),\n",
        "    layers.Dense(8, activation='relu'),\n",
        "    layers.Dense(1)  # Output layer with 1 neuron (for regression)\n",
        "])\n",
        "\n",
        "# Compile the model\n",
        "model.compile(optimizer='adam', loss='mean_squared_error')\n",
        "\n",
        "# Train the model\n",
        "model.fit(x, y, epochs=100, verbose=1)\n",
        "\n",
        "# Now you can use the trained model for predictions\n",
        "# Example prediction for a new input\n",
        "new_input = np.array([[0.3, 577, 1]])\n",
        "predicted_output = model.predict(new_input)\n",
        "print(\"Predicted Output:\", predicted_output)\n"
      ],
      "metadata": {
        "id": "jyBozqz2CHfZ"
      },
      "execution_count": null,
      "outputs": []
    },
    {
      "cell_type": "markdown",
      "source": [
        "# THIS IS THE SAMPLE CODE FROM CHATGPT. It is NOT needed for us, just a sanity check test.\n",
        "import numpy as np\n",
        "import tensorflow as tf\n",
        "from tensorflow import keras\n",
        "\n",
        "# Generate some sample data\n",
        "# Here, we have one input feature (X) and one output (y).\n",
        "X = np.array([1.0, 2.0, 3.0, 4.0, 5.0])  # Input feature\n",
        "y = np.array([2.0, 4.0, 6.0, 8.0, 10.0])  # Corresponding output\n",
        "\n",
        "# Define a simple neural network model\n",
        "model = keras.Sequential([\n",
        "    keras.layers.Dense(units=1, input_shape=[1])  # One input feature, one output unit\n",
        "])\n",
        "\n",
        "# Compile the model\n",
        "model.compile(optimizer='sgd', learning_rate = 0.001, loss='mean_squared_error', metrics=['accuracy'])\n",
        "\n",
        "# Train the model\n",
        "model.fit(X, y, epochs=100)  # You can adjust the number of epochs as needed\n",
        "\n",
        "# Make predictions\n",
        "predictions = model.predict([6.0, 7.0])  # Predict the output for new inputs\n",
        "\n",
        "print(predictions)\n"
      ],
      "metadata": {
        "id": "yd0FenMGAmhZ"
      }
    }
  ]
}